{
 "cells": [
  {
   "cell_type": "code",
   "execution_count": 3,
   "id": "ba293278",
   "metadata": {},
   "outputs": [],
   "source": [
    "# importing packages\n",
    "import requests\n",
    "from bs4 import BeautifulSoup\n",
    "\n",
    "\n",
    "# helper function\n",
    "def get_default_headers():\n",
    "    \n",
    "    return {\n",
    "        'user-agent': 'Mozilla/5.0 (Windows NT 10.0; Win64; x64; rv:109.0) Gecko/20100101 Firefox/117.0',\n",
    "        'accept-language': 'en-US,en;q=0.9'\n",
    "    }\n",
    "\n",
    "\n",
    "# function that scrapes proportions of star ratings, number of ratings and title of product from Amazon website\n",
    "def retrieve_star_ratings_from_Amazon(url, headers=None):\n",
    "\n",
    "    # Use default headers if none are provided\n",
    "    if headers is None:\n",
    "        headers = get_default_headers()\n",
    "\n",
    "    response = requests.get(url, headers=headers)\n",
    "\n",
    "    if response.status_code != 200:\n",
    "        print(f\"Failed to retrieve page with status code: {response.status_code}\")\n",
    "        return None, None, None\n",
    "\n",
    "    soup = BeautifulSoup(response.text, 'lxml')\n",
    "\n",
    "    title_element = soup.select_one('#productTitle')\n",
    "    title = title_element.text.strip() if title_element else None\n",
    "    if not title:\n",
    "        print(\"Failed to find the title element.\")\n",
    "        \n",
    "    no_of_ratings_element = soup.select_one('#acrCustomerReviewText')\n",
    "    no_of_ratings = int(no_of_ratings_element.text.replace(' ratings', '').replace(',', '').strip()) if no_of_ratings_element else None\n",
    "    if not no_of_ratings:\n",
    "        print(\"Failed to find the number of ratings element.\")\n",
    "\n",
    "    star_reviews_hist = soup.select_one('#cm_cr_dp_d_rating_histogram')\n",
    "    if star_reviews_hist:\n",
    "        a_tags = star_reviews_hist.find_all('a')\n",
    "        star_reviews_list = [a.get('aria-label') for a in a_tags if a.get('aria-label')]\n",
    "    else:\n",
    "        print(\"Failed to find the rating histogram section.\")\n",
    "        star_reviews_list = None\n",
    "\n",
    "    return star_reviews_list, no_of_ratings, title\n",
    "\n",
    "# Output\n",
    "# star_reviews_list, no_of_ratings, title = retrieve_star_ratings_from_Amazon(url = 'https://www.amazon.co.uk/Fellowship-Ring-Lord-Rings-Book/dp/B098T7Y764/ref=sr_1_1?crid=27UDEHA2GEFQR&dib=eyJ2IjoiMSJ9.WrTkzOAV8F3J01PaazC2z3cY5ECpjRJyl6JBTCAsfZHFLK7DeUNN2QDX8rAd2erItL5NP11EdA4Nj_AUJf_1JeEvC_4EpmQZSWA3Tx3rg_JhZyWn02OvAnlh51PblfrLRziPBN3mYoE5C80waot6MZamzlqTxuDMJEtYtQmsYTfKeHJWStZV1kfzcffcg2NChVM_NwS0X6jG0WMct6EHBAiUC8jK-Ulc1YgX0VL1cpA.Eqfpx8QinoKBjaqZNH-4uBYb7yH47oJIN3_cEMgmpaY&dib_tag=se&keywords=lord+of+the+rings&qid=1725456922&sprefix=lord+of+the+rings%2Caps%2C108&sr=8-1')"
   ]
  }
 ],
 "metadata": {
  "kernelspec": {
   "display_name": "Python 3 (ipykernel)",
   "language": "python",
   "name": "python3"
  },
  "language_info": {
   "codemirror_mode": {
    "name": "ipython",
    "version": 3
   },
   "file_extension": ".py",
   "mimetype": "text/x-python",
   "name": "python",
   "nbconvert_exporter": "python",
   "pygments_lexer": "ipython3",
   "version": "3.11.5"
  }
 },
 "nbformat": 4,
 "nbformat_minor": 5
}
