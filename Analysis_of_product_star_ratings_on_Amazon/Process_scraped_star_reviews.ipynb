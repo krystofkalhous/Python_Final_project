{
 "cells": [
  {
   "cell_type": "code",
   "execution_count": 6,
   "id": "aed1c4b5",
   "metadata": {},
   "outputs": [],
   "source": [
    "def convert_list_to_dict(star_reviews_list):\n",
    "    \n",
    "    # Initialize it this way, for if the ratings were \"truanced\", i.e. no 1 star rating etc.\n",
    "    dict_of_ratings_percentages = {1:0, 2:0, 3:0, 4:0, 5:0}\n",
    "\n",
    "    for label in star_reviews_list:\n",
    "        parts = label.split(' percent of reviews have ')\n",
    "        \n",
    "        if len(parts) == 2:\n",
    "            percentage_str = parts[0].strip()\n",
    "            stars_str = parts[1].replace(' stars', '').strip()\n",
    "\n",
    "            try:\n",
    "                percentage_value = int(percentage_str)\n",
    "                stars_value = int(stars_str)\n",
    "\n",
    "                dict_of_ratings_percentages[stars_value] = percentage_value\n",
    "                \n",
    "            except ValueError:\n",
    "                print(f\"Error converting values: percentage_str='{percentage_str}', stars_str='{stars_str}'\")\n",
    "    \n",
    "    return dict_of_ratings_percentages\n",
    "    \n",
    "# Output\n",
    "# dict_of_ratings_percentages = convert_list_to_dict(star_reviews_list)"
   ]
  },
  {
   "cell_type": "code",
   "execution_count": 9,
   "id": "e32d6b42",
   "metadata": {},
   "outputs": [],
   "source": [
    "def convert_star_percentages_to_values_df(dict_of_ratings_percentages, no_of_ratings):\n",
    "    dict_of_star_ratings = {}\n",
    "    \n",
    "    # Here, we round the result, hoping that any inaccuracy we create by this is negligible\n",
    "    for i in range(1,6):\n",
    "        dict_of_star_ratings[i] = int(round((dict_of_ratings_percentages[i] / 100) * no_of_ratings))\n",
    "        \n",
    "    return dict_of_star_ratings\n",
    "    \n",
    "# Output\n",
    "# dict_of_star_ratings = convert_star_percentages_to_values_df(dict_of_ratings_percentages, no_of_ratings)"
   ]
  }
 ],
 "metadata": {
  "kernelspec": {
   "display_name": "Python 3 (ipykernel)",
   "language": "python",
   "name": "python3"
  },
  "language_info": {
   "codemirror_mode": {
    "name": "ipython",
    "version": 3
   },
   "file_extension": ".py",
   "mimetype": "text/x-python",
   "name": "python",
   "nbconvert_exporter": "python",
   "pygments_lexer": "ipython3",
   "version": "3.11.5"
  }
 },
 "nbformat": 4,
 "nbformat_minor": 5
}
